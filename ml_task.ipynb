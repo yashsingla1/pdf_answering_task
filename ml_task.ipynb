{
 "cells": [
  {
   "cell_type": "code",
   "execution_count": null,
   "id": "3b04a6d9",
   "metadata": {},
   "outputs": [],
   "source": [
    "import PyPDF2\n",
    "import google.generativeai as genai\n",
    "\n",
    "Gemini_api_key= \"ENTER YOUR GEMINI API HERE\"\n",
    "file_path= 'ENTER THE FILE NAME SAVED IN THE SAME DIRECTORY eg. test_sample_1.pdf'\n",
    "\n",
    "def text_retreival(file_path):\n",
    "  with open(file_path, 'rb') as file:\n",
    "    reader = PyPDF2.PdfReader(file)\n",
    "    text = ''\n",
    "    for page in reader.pages:\n",
    "      text += page.extract_text()\n",
    "  return text\n",
    "\n",
    "def request(prompt, document_text):\n",
    "  genai.configure(api_key=Gemini_api_key)\n",
    "  model = genai.GenerativeModel(\"gemini-1.5-flash\")\n",
    "  prompt = f\"\"\"\n",
    "    Prompt: {prompt}\n",
    "\n",
    "    Document: {document_text}\n",
    "\n",
    "    Task: Provide a concise answer to the question based on the document. \n",
    "\n",
    "    **Guidelines:**\n",
    "    \n",
    "    * **Clarity:** Ensure the answer is clear and easy to understand.\n",
    "    * **Conciseness:** Keep the answer brief and to the point.\n",
    "    * **Relevance:** Only include information directly related to the question.\n",
    "    * **Citation:** Cite specific portions of the document that support the answer, using a format like \"(Document, Page X)\".\n",
    "    \"\"\"\n",
    "  response = model.generate_content(prompt)\n",
    "  return response.text\n",
    "\n",
    "if __name__ == \"__main__\":\n",
    "  pdf_path = file_path\n",
    "  document_text = text_retreival(pdf_path)\n",
    "\n",
    "\n",
    "  user_query = input(\"QUESTION : \")\n",
    "\n",
    "  answer = request(user_query, document_text)\n",
    "  print(\"\\n\")  \n",
    "  print(\"ANSWER : \",answer)"
   ]
  }
 ],
 "metadata": {
  "kernelspec": {
   "display_name": "Python 3 (ipykernel)",
   "language": "python",
   "name": "python3"
  },
  "language_info": {
   "codemirror_mode": {
    "name": "ipython",
    "version": 3
   },
   "file_extension": ".py",
   "mimetype": "text/x-python",
   "name": "python",
   "nbconvert_exporter": "python",
   "pygments_lexer": "ipython3",
   "version": "3.9.16"
  }
 },
 "nbformat": 4,
 "nbformat_minor": 5
}
